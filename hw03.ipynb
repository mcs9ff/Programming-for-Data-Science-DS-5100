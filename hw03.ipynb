{
 "cells": [
  {
   "cell_type": "code",
   "execution_count": 1,
   "metadata": {},
   "outputs": [],
   "source": [
    "# HW 03"
   ]
  },
  {
   "cell_type": "code",
   "execution_count": 2,
   "metadata": {},
   "outputs": [],
   "source": [
    "#Matt Scheffel\n",
    "#mcs9ff\n",
    "#URL: "
   ]
  },
  {
   "cell_type": "code",
   "execution_count": 3,
   "metadata": {},
   "outputs": [],
   "source": [
    "# Task 1"
   ]
  },
  {
   "cell_type": "code",
   "execution_count": 5,
   "metadata": {},
   "outputs": [],
   "source": [
    "#Using the **for** loop and **if** statement control structures,\n",
    "#write a script that generates the integers from 1 to 100 and does the following things:\n",
    "    #\"* If 3 is a factor of the number, print `Wahoo`\n",
    "    #\"* If 5 is a factor of the number, print `wah!`\n",
    "    #\"* If the number meets none of the above conditions, print nothing, not even a line break.\n",
    "    #\"* If the number meets both of the conditions, print the strings on the same line with no space between them.\n",
    "    #\"* Make sure that the line printed for each iteration in which a condition is met ends with a line break.\n",
    "    #\"* When the loop is finished, \n",
    "    #print the number of times either conidtion was met, i.e. the number of lines that were printed."
   ]
  },
  {
   "cell_type": "code",
   "execution_count": 10,
   "metadata": {},
   "outputs": [
    {
     "name": "stdout",
     "output_type": "stream",
     "text": [
      "Wahoo\n",
      "\n",
      "wah!\n",
      "\n",
      "Wahoo\n",
      "\n",
      "Wahoo\n",
      "\n",
      "wah!\n",
      "\n",
      "Wahoo\n",
      "\n",
      "Wahoowah!\n",
      "\n",
      "Wahoo\n",
      "\n",
      "wah!\n",
      "\n",
      "Wahoo\n",
      "\n",
      "Wahoo\n",
      "\n",
      "wah!\n",
      "\n",
      "Wahoo\n",
      "\n",
      "Wahoowah!\n",
      "\n",
      "Wahoo\n",
      "\n",
      "wah!\n",
      "\n",
      "Wahoo\n",
      "\n",
      "Wahoo\n",
      "\n",
      "wah!\n",
      "\n",
      "Wahoo\n",
      "\n",
      "Wahoowah!\n",
      "\n",
      "Wahoo\n",
      "\n",
      "wah!\n",
      "\n",
      "Wahoo\n",
      "\n",
      "Wahoo\n",
      "\n",
      "wah!\n",
      "\n",
      "Wahoo\n",
      "\n",
      "Wahoowah!\n",
      "\n",
      "Wahoo\n",
      "\n",
      "wah!\n",
      "\n",
      "Wahoo\n",
      "\n",
      "Wahoo\n",
      "\n",
      "wah!\n",
      "\n",
      "Wahoo\n",
      "\n",
      "Wahoowah!\n",
      "\n",
      "Wahoo\n",
      "\n",
      "wah!\n",
      "\n",
      "Wahoo\n",
      "\n",
      "Wahoo\n",
      "\n",
      "wah!\n",
      "\n",
      "Wahoo\n",
      "\n",
      "Wahoowah!\n",
      "\n",
      "Wahoo\n",
      "\n",
      "wah!\n",
      "\n",
      "Wahoo\n",
      "\n",
      "Wahoo\n",
      "\n",
      "wah!\n",
      "\n",
      "47\n"
     ]
    }
   ],
   "source": [
    "numberlist = []\n",
    "for i in range(1,101):\n",
    "    numberlist.append(i)\n",
    "    if i % 3 == 0 and i % 5 == 0:\n",
    "        print(\"Wahoowah!\\n\")\n",
    "    elif i % 3 == 0:\n",
    "        print(\"Wahoo\\n\")\n",
    "    elif i % 5 == 0:\n",
    "        print(\"wah!\\n\")\n",
    "    else:\n",
    "        continue\n",
    "\n",
    "# print the number of times condition was met\n",
    "\n",
    "count = []\n",
    "for i in range(1,101):\n",
    "    numberlist.append(i)\n",
    "    if i % 3 == 0 and i % 5 == 0:\n",
    "        count.append(i)\n",
    "    elif i % 3 == 0:\n",
    "        count.append(i)\n",
    "    elif i % 5 == 0:\n",
    "        count.append(i)\n",
    "\n",
    "sumcount = len(count)\n",
    "print(sumcount)"
   ]
  },
  {
   "cell_type": "code",
   "execution_count": 11,
   "metadata": {},
   "outputs": [],
   "source": [
    "# Task 2"
   ]
  },
  {
   "cell_type": "code",
   "execution_count": 7,
   "metadata": {},
   "outputs": [],
   "source": [
    "#\"Rewrite the `for` loop as a `while` loop.\n",
    "#\"This time, only print lines where both conditions are met.\n",
    "#\"Include a final line which prints the number of times both conditions are met.\""
   ]
  },
  {
   "cell_type": "code",
   "execution_count": 11,
   "metadata": {},
   "outputs": [
    {
     "name": "stdout",
     "output_type": "stream",
     "text": [
      "Wahoowah!\n",
      "\n",
      "Wahoowah!\n",
      "\n",
      "Wahoowah!\n",
      "\n",
      "Wahoowah!\n",
      "\n",
      "Wahoowah!\n",
      "\n",
      "Wahoowah!\n",
      "\n",
      "6\n"
     ]
    }
   ],
   "source": [
    "num = 1\n",
    "max_num = 100\n",
    "while num <= max_num:\n",
    "    if num % 3 == 0 and num % 5 == 0:\n",
    "        print(\"Wahoowah!\\n\")\n",
    "    num += 1\n",
    "    \n",
    "# print the number of times condition was met\n",
    "\n",
    "newcount= []\n",
    "num = 1\n",
    "max_num = 100\n",
    "while num <= max_num:\n",
    "    if num % 3 == 0 and num % 5 == 0:\n",
    "        newcount.append(num)\n",
    "    num += 1\n",
    "\n",
    "sumcount2 = len(newcount)\n",
    "print(sumcount2)"
   ]
  },
  {
   "cell_type": "code",
   "execution_count": null,
   "metadata": {},
   "outputs": [],
   "source": [
    "# Task 3"
   ]
  },
  {
   "cell_type": "code",
   "execution_count": 9,
   "metadata": {},
   "outputs": [],
   "source": [
    "#Write a list comprehension that iterates through the integers from 1 to 100 and \n",
    "#returns a list containing the sum of the boolean values of the two conditions described in Task 1."
   ]
  },
  {
   "cell_type": "code",
   "execution_count": 12,
   "metadata": {},
   "outputs": [
    {
     "name": "stdout",
     "output_type": "stream",
     "text": [
      "47\n"
     ]
    }
   ],
   "source": [
    "complist = [i for i in range(1,101)]\n",
    "is_true = [num % 3 == 0 or num % 5 == 0 for num in complist]\n",
    "\n",
    "# sum of the boolean values\n",
    "# \"True\" = 1, \"False\" = 0\n",
    "\n",
    "print(sum(is_true))"
   ]
  },
  {
   "cell_type": "code",
   "execution_count": null,
   "metadata": {},
   "outputs": [],
   "source": [
    "# So we have 47 True and 53 False"
   ]
  },
  {
   "cell_type": "code",
   "execution_count": null,
   "metadata": {},
   "outputs": [],
   "source": [
    "# Fin"
   ]
  }
 ],
 "metadata": {
  "kernelspec": {
   "display_name": "Python 3",
   "language": "python",
   "name": "python3"
  },
  "language_info": {
   "codemirror_mode": {
    "name": "ipython",
    "version": 3
   },
   "file_extension": ".py",
   "mimetype": "text/x-python",
   "name": "python",
   "nbconvert_exporter": "python",
   "pygments_lexer": "ipython3",
   "version": "3.8.8"
  }
 },
 "nbformat": 4,
 "nbformat_minor": 4
}
